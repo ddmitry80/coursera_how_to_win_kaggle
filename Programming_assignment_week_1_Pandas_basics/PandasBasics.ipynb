{
 "cells": [
  {
   "cell_type": "markdown",
   "metadata": {},
   "source": [
    "Version 1.0.3"
   ]
  },
  {
   "cell_type": "markdown",
   "metadata": {},
   "source": [
    "# Pandas basics "
   ]
  },
  {
   "cell_type": "markdown",
   "metadata": {},
   "source": [
    "Hi! In this programming assignment you need to refresh your `pandas` knowledge. You will need to do several [`groupby`](https://pandas.pydata.org/pandas-docs/stable/generated/pandas.DataFrame.groupby.html)s and [`join`]()`s to solve the task. "
   ]
  },
  {
   "cell_type": "code",
   "execution_count": 1,
   "metadata": {},
   "outputs": [],
   "source": [
    "import pandas as pd\n",
    "import numpy as np\n",
    "import os\n",
    "import matplotlib.pyplot as plt\n",
    "%matplotlib inline \n",
    "from pathlib import Path"
   ]
  },
  {
   "cell_type": "code",
   "execution_count": 2,
   "metadata": {},
   "outputs": [],
   "source": [
    "from grader import Grader"
   ]
  },
  {
   "cell_type": "code",
   "execution_count": 4,
   "metadata": {},
   "outputs": [],
   "source": [
    "# DATA_FOLDER = '../readonly/final_project_data/'\n",
    "# data_folder = Path('data/competitive-data-science-final-project')\n",
    "data_folder = Path('../readonly/final_project_data')\n",
    "\n",
    "transactions    = pd.read_csv(data_folder/'sales_train.csv.gz')\n",
    "items           = pd.read_csv(data_folder/'items.csv')\n",
    "item_categories = pd.read_csv(data_folder/'item_categories.csv')\n",
    "shops           = pd.read_csv(data_folder/'shops.csv')"
   ]
  },
  {
   "cell_type": "markdown",
   "metadata": {},
   "source": [
    "The dataset we are going to use is taken from the competition, that serves as the final project for this course. You can find complete data description at the [competition web page](https://www.kaggle.com/c/competitive-data-science-final-project/data). To join the competition use [this link](https://www.kaggle.com/t/1ea93815dca248e99221df42ebde3540)."
   ]
  },
  {
   "cell_type": "markdown",
   "metadata": {},
   "source": [
    "## Grading"
   ]
  },
  {
   "cell_type": "markdown",
   "metadata": {},
   "source": [
    "We will create a grader instace below and use it to collect your answers. When function `submit_tag` is called, grader will store your answer *locally*. The answers will *not* be submited to the platform immediately so you can call `submit_tag` function as many times as you need. \n",
    "\n",
    "When you are ready to push your answers to the platform you should fill your credentials and run `submit` function in the <a href=\"#Authorization-&-Submission\">last paragraph</a>  of the assignment."
   ]
  },
  {
   "cell_type": "code",
   "execution_count": 5,
   "metadata": {},
   "outputs": [],
   "source": [
    "grader = Grader()"
   ]
  },
  {
   "cell_type": "markdown",
   "metadata": {},
   "source": [
    "# Task"
   ]
  },
  {
   "cell_type": "markdown",
   "metadata": {},
   "source": [
    "Let's start with a simple task. \n",
    "\n",
    "<ol start=\"0\">\n",
    "  <li><b>Print the shape of the loaded dataframes and use [`df.head`](https://pandas.pydata.org/pandas-docs/stable/generated/pandas.DataFrame.head.html) function to print several rows. Examine the features you are given.</b></li>\n",
    "</ol>"
   ]
  },
  {
   "cell_type": "code",
   "execution_count": 6,
   "metadata": {},
   "outputs": [
    {
     "name": "stdout",
     "output_type": "stream",
     "text": [
      "Transactions shape: (2935849, 6) Head\n",
      "         date  date_block_num  shop_id  item_id  item_price  item_cnt_day\n",
      "0  02.01.2013               0       59    22154      999.00           1.0\n",
      "1  03.01.2013               0       25     2552      899.00           1.0\n",
      "2  05.01.2013               0       25     2552      899.00          -1.0\n",
      "3  06.01.2013               0       25     2554     1709.05           1.0\n",
      "4  15.01.2013               0       25     2555     1099.00           1.0\n",
      "\n",
      "items shape: (22170, 3) \n",
      "                                                              item_name  item_id  item_category_id\n",
      "0                             ! ВО ВЛАСТИ НАВАЖДЕНИЯ (ПЛАСТ.)         D        0                40\n",
      "1  !ABBYY FineReader 12 Professional Edition Full [PC, Цифровая версия]        1                76\n",
      "2                         ***В ЛУЧАХ СЛАВЫ   (UNV)                    D        2                40\n",
      "3                       ***ГОЛУБАЯ ВОЛНА  (Univ)                      D        3                40\n",
      "4                           ***КОРОБКА (СТЕКЛО)                       D        4                40\n",
      "\n",
      "item_categories shape: (84, 2) \n",
      "        item_category_name  item_category_id\n",
      "0  PC - Гарнитуры/Наушники                 0\n",
      "1         Аксессуары - PS2                 1\n",
      "2         Аксессуары - PS3                 2\n",
      "3         Аксессуары - PS4                 3\n",
      "4         Аксессуары - PSP                 4\n",
      "\n",
      "shops shape: (60, 2) \n",
      "                        shop_name  shop_id\n",
      "0   !Якутск Орджоникидзе, 56 фран        0\n",
      "1   !Якутск ТЦ \"Центральный\" фран        1\n",
      "2                Адыгея ТЦ \"Мега\"        2\n",
      "3  Балашиха ТРК \"Октябрь-Киномир\"        3\n",
      "4        Волжский ТЦ \"Волга Молл\"        4\n",
      "\n"
     ]
    }
   ],
   "source": [
    "# YOUR CODE GOES HERE\n",
    "\n",
    "print('Transactions shape:', transactions.shape, f'Head\\n{transactions.head()}\\n')\n",
    "print('items shape:', items.shape, f'\\n{items.head().to_string()}\\n')\n",
    "print('item_categories shape:', item_categories.shape, f'\\n{item_categories.head().to_string()}\\n')\n",
    "print('shops shape:', shops.shape, f'\\n{shops.head().to_string()}\\n')"
   ]
  },
  {
   "cell_type": "markdown",
   "metadata": {},
   "source": [
    "Now use your `pandas` skills to get answers for the following questions. \n",
    "The first question is:\n",
    "\n",
    "1. ** What was the maximum total revenue among all the shops in September, 2014?** \n",
    "\n",
    "\n",
    "* Hereinafter *revenue* refers to total sales minus value of goods returned.\n",
    "\n",
    "*Hints:*\n",
    "\n",
    "* Sometimes items are returned, find such examples in the dataset. \n",
    "* It is handy to split `date` field into [`day`, `month`, `year`] components and use `df.year == 14` and `df.month == 9` in order to select target subset of dates.\n",
    "* You may work with `date` feature as with strings, or you may first convert it to `pd.datetime` type with `pd.to_datetime` function, but do not forget to set correct `format` argument."
   ]
  },
  {
   "cell_type": "code",
   "execution_count": 7,
   "metadata": {},
   "outputs": [],
   "source": [
    "# YOUR CODE GOES HERE"
   ]
  },
  {
   "cell_type": "code",
   "execution_count": 8,
   "metadata": {},
   "outputs": [
    {
     "data": {
      "text/html": [
       "<div>\n",
       "<style scoped>\n",
       "    .dataframe tbody tr th:only-of-type {\n",
       "        vertical-align: middle;\n",
       "    }\n",
       "\n",
       "    .dataframe tbody tr th {\n",
       "        vertical-align: top;\n",
       "    }\n",
       "\n",
       "    .dataframe thead th {\n",
       "        text-align: right;\n",
       "    }\n",
       "</style>\n",
       "<table border=\"1\" class=\"dataframe\">\n",
       "  <thead>\n",
       "    <tr style=\"text-align: right;\">\n",
       "      <th></th>\n",
       "      <th>date</th>\n",
       "      <th>date_block_num</th>\n",
       "      <th>shop_id</th>\n",
       "      <th>item_id</th>\n",
       "      <th>item_price</th>\n",
       "      <th>item_cnt_day</th>\n",
       "      <th>income</th>\n",
       "    </tr>\n",
       "  </thead>\n",
       "  <tbody>\n",
       "    <tr>\n",
       "      <th>1267571</th>\n",
       "      <td>2014-09-01</td>\n",
       "      <td>12</td>\n",
       "      <td>54</td>\n",
       "      <td>10300</td>\n",
       "      <td>699.0</td>\n",
       "      <td>1.0</td>\n",
       "      <td>699.0</td>\n",
       "    </tr>\n",
       "    <tr>\n",
       "      <th>1267595</th>\n",
       "      <td>2014-09-01</td>\n",
       "      <td>12</td>\n",
       "      <td>54</td>\n",
       "      <td>10292</td>\n",
       "      <td>99.0</td>\n",
       "      <td>1.0</td>\n",
       "      <td>99.0</td>\n",
       "    </tr>\n",
       "    <tr>\n",
       "      <th>1267605</th>\n",
       "      <td>2014-09-01</td>\n",
       "      <td>12</td>\n",
       "      <td>54</td>\n",
       "      <td>10376</td>\n",
       "      <td>399.0</td>\n",
       "      <td>1.0</td>\n",
       "      <td>399.0</td>\n",
       "    </tr>\n",
       "    <tr>\n",
       "      <th>1267800</th>\n",
       "      <td>2014-09-01</td>\n",
       "      <td>12</td>\n",
       "      <td>54</td>\n",
       "      <td>11305</td>\n",
       "      <td>499.0</td>\n",
       "      <td>-1.0</td>\n",
       "      <td>-499.0</td>\n",
       "    </tr>\n",
       "    <tr>\n",
       "      <th>1267862</th>\n",
       "      <td>2014-09-01</td>\n",
       "      <td>12</td>\n",
       "      <td>54</td>\n",
       "      <td>10457</td>\n",
       "      <td>149.0</td>\n",
       "      <td>1.0</td>\n",
       "      <td>149.0</td>\n",
       "    </tr>\n",
       "    <tr>\n",
       "      <th>...</th>\n",
       "      <td>...</td>\n",
       "      <td>...</td>\n",
       "      <td>...</td>\n",
       "      <td>...</td>\n",
       "      <td>...</td>\n",
       "      <td>...</td>\n",
       "      <td>...</td>\n",
       "    </tr>\n",
       "    <tr>\n",
       "      <th>2323138</th>\n",
       "      <td>2014-09-12</td>\n",
       "      <td>23</td>\n",
       "      <td>25</td>\n",
       "      <td>6436</td>\n",
       "      <td>1399.0</td>\n",
       "      <td>1.0</td>\n",
       "      <td>1399.0</td>\n",
       "    </tr>\n",
       "    <tr>\n",
       "      <th>2323178</th>\n",
       "      <td>2014-09-12</td>\n",
       "      <td>23</td>\n",
       "      <td>25</td>\n",
       "      <td>6737</td>\n",
       "      <td>199.0</td>\n",
       "      <td>1.0</td>\n",
       "      <td>199.0</td>\n",
       "    </tr>\n",
       "    <tr>\n",
       "      <th>2323210</th>\n",
       "      <td>2014-09-12</td>\n",
       "      <td>23</td>\n",
       "      <td>25</td>\n",
       "      <td>6504</td>\n",
       "      <td>2499.0</td>\n",
       "      <td>1.0</td>\n",
       "      <td>2499.0</td>\n",
       "    </tr>\n",
       "    <tr>\n",
       "      <th>2323229</th>\n",
       "      <td>2014-09-12</td>\n",
       "      <td>23</td>\n",
       "      <td>25</td>\n",
       "      <td>6680</td>\n",
       "      <td>899.0</td>\n",
       "      <td>1.0</td>\n",
       "      <td>899.0</td>\n",
       "    </tr>\n",
       "    <tr>\n",
       "      <th>2323306</th>\n",
       "      <td>2014-09-12</td>\n",
       "      <td>23</td>\n",
       "      <td>25</td>\n",
       "      <td>5459</td>\n",
       "      <td>349.0</td>\n",
       "      <td>1.0</td>\n",
       "      <td>349.0</td>\n",
       "    </tr>\n",
       "  </tbody>\n",
       "</table>\n",
       "<p>77637 rows × 7 columns</p>\n",
       "</div>"
      ],
      "text/plain": [
       "              date  date_block_num  shop_id  item_id  item_price  \\\n",
       "1267571 2014-09-01              12       54    10300       699.0   \n",
       "1267595 2014-09-01              12       54    10292        99.0   \n",
       "1267605 2014-09-01              12       54    10376       399.0   \n",
       "1267800 2014-09-01              12       54    11305       499.0   \n",
       "1267862 2014-09-01              12       54    10457       149.0   \n",
       "...            ...             ...      ...      ...         ...   \n",
       "2323138 2014-09-12              23       25     6436      1399.0   \n",
       "2323178 2014-09-12              23       25     6737       199.0   \n",
       "2323210 2014-09-12              23       25     6504      2499.0   \n",
       "2323229 2014-09-12              23       25     6680       899.0   \n",
       "2323306 2014-09-12              23       25     5459       349.0   \n",
       "\n",
       "         item_cnt_day  income  \n",
       "1267571           1.0   699.0  \n",
       "1267595           1.0    99.0  \n",
       "1267605           1.0   399.0  \n",
       "1267800          -1.0  -499.0  \n",
       "1267862           1.0   149.0  \n",
       "...               ...     ...  \n",
       "2323138           1.0  1399.0  \n",
       "2323178           1.0   199.0  \n",
       "2323210           1.0  2499.0  \n",
       "2323229           1.0   899.0  \n",
       "2323306           1.0   349.0  \n",
       "\n",
       "[77637 rows x 7 columns]"
      ]
     },
     "execution_count": 8,
     "metadata": {},
     "output_type": "execute_result"
    }
   ],
   "source": [
    "transactions.date = pd.to_datetime(transactions.date, yearfirst=True)\n",
    "sep14 = (transactions.date.dt.month==9)&(transactions.date.dt.year==2014)\n",
    "tr_sep14 = transactions[sep14].copy()\n",
    "tr_sep14['income'] = tr_sep14['item_price'] * tr_sep14['item_cnt_day']\n",
    "# tr_sep14 = tr_sep14.merge(shops)\n",
    "tr_sep14"
   ]
  },
  {
   "cell_type": "code",
   "execution_count": 9,
   "metadata": {},
   "outputs": [
    {
     "data": {
      "text/html": [
       "<div>\n",
       "<style scoped>\n",
       "    .dataframe tbody tr th:only-of-type {\n",
       "        vertical-align: middle;\n",
       "    }\n",
       "\n",
       "    .dataframe tbody tr th {\n",
       "        vertical-align: top;\n",
       "    }\n",
       "\n",
       "    .dataframe thead th {\n",
       "        text-align: right;\n",
       "    }\n",
       "</style>\n",
       "<table border=\"1\" class=\"dataframe\">\n",
       "  <thead>\n",
       "    <tr style=\"text-align: right;\">\n",
       "      <th></th>\n",
       "      <th>shop_id</th>\n",
       "      <th>income</th>\n",
       "      <th>shop_name</th>\n",
       "    </tr>\n",
       "  </thead>\n",
       "  <tbody>\n",
       "    <tr>\n",
       "      <th>0</th>\n",
       "      <td>31</td>\n",
       "      <td>7.785688e+06</td>\n",
       "      <td>Москва ТЦ \"Семеновский\"</td>\n",
       "    </tr>\n",
       "    <tr>\n",
       "      <th>1</th>\n",
       "      <td>25</td>\n",
       "      <td>6.784135e+06</td>\n",
       "      <td>Москва ТРК \"Атриум\"</td>\n",
       "    </tr>\n",
       "    <tr>\n",
       "      <th>2</th>\n",
       "      <td>12</td>\n",
       "      <td>5.613298e+06</td>\n",
       "      <td>Интернет-магазин ЧС</td>\n",
       "    </tr>\n",
       "    <tr>\n",
       "      <th>3</th>\n",
       "      <td>28</td>\n",
       "      <td>5.315984e+06</td>\n",
       "      <td>Москва ТЦ \"МЕГА Теплый Стан\" II</td>\n",
       "    </tr>\n",
       "    <tr>\n",
       "      <th>4</th>\n",
       "      <td>54</td>\n",
       "      <td>5.162894e+06</td>\n",
       "      <td>Химки ТЦ \"Мега\"</td>\n",
       "    </tr>\n",
       "  </tbody>\n",
       "</table>\n",
       "</div>"
      ],
      "text/plain": [
       "   shop_id        income                        shop_name\n",
       "0       31  7.785688e+06          Москва ТЦ \"Семеновский\"\n",
       "1       25  6.784135e+06              Москва ТРК \"Атриум\"\n",
       "2       12  5.613298e+06              Интернет-магазин ЧС\n",
       "3       28  5.315984e+06  Москва ТЦ \"МЕГА Теплый Стан\" II\n",
       "4       54  5.162894e+06                  Химки ТЦ \"Мега\""
      ]
     },
     "execution_count": 9,
     "metadata": {},
     "output_type": "execute_result"
    }
   ],
   "source": [
    "grouped_sum = tr_sep14.groupby('shop_id')['income'].sum().to_frame()\n",
    "grouped_sum.sort_values('income', ascending=False, inplace=True)\n",
    "grouped_sum.reset_index(inplace=True)\n",
    "grouped_sum = grouped_sum.merge(shops)\n",
    "grouped_sum.head()"
   ]
  },
  {
   "cell_type": "code",
   "execution_count": 10,
   "metadata": {},
   "outputs": [
    {
     "name": "stdout",
     "output_type": "stream",
     "text": [
      "Максимальное значение 7785688.00 для ТЦ Москва ТЦ \"Семеновский\"\n"
     ]
    }
   ],
   "source": [
    "print(f'Максимальное значение {grouped_sum.iloc[0,1]:.2f} для ТЦ {grouped_sum.iloc[0,2]}')"
   ]
  },
  {
   "cell_type": "code",
   "execution_count": 11,
   "metadata": {},
   "outputs": [
    {
     "data": {
      "text/plain": [
       "7785688.0"
      ]
     },
     "execution_count": 11,
     "metadata": {},
     "output_type": "execute_result"
    }
   ],
   "source": [
    "round(grouped_sum.iloc[0,1], 2)"
   ]
  },
  {
   "cell_type": "code",
   "execution_count": 12,
   "metadata": {},
   "outputs": [
    {
     "name": "stdout",
     "output_type": "stream",
     "text": [
      "Current answer for task max_revenue is: 7785688.0\n"
     ]
    }
   ],
   "source": [
    "max_revenue = round(grouped_sum.iloc[0,1], 2)# PUT YOUR ANSWER IN THIS VARIABLE\n",
    "grader.submit_tag('max_revenue', max_revenue)"
   ]
  },
  {
   "cell_type": "markdown",
   "metadata": {},
   "source": [
    "Great! Let's move on and answer another question:\n",
    "\n",
    "<ol start=\"2\">\n",
    "  <li><b>What item category generated the highest revenue in summer 2014?</b></li>\n",
    "</ol>\n",
    "\n",
    "* Submit `id` of the category found.\n",
    "    \n",
    "* Here we call \"summer\" the period from June to August.\n",
    "\n",
    "*Hints:*\n",
    "\n",
    "* Note, that for an object `x` of type `pd.Series`: `x.argmax()` returns **index** of the maximum element. `pd.Series` can have non-trivial index (not `[1, 2, 3, ... ]`)."
   ]
  },
  {
   "cell_type": "code",
   "execution_count": 13,
   "metadata": {},
   "outputs": [],
   "source": [
    "# YOUR CODE GOES HERE"
   ]
  },
  {
   "cell_type": "code",
   "execution_count": 14,
   "metadata": {},
   "outputs": [
    {
     "data": {
      "text/html": [
       "<div>\n",
       "<style scoped>\n",
       "    .dataframe tbody tr th:only-of-type {\n",
       "        vertical-align: middle;\n",
       "    }\n",
       "\n",
       "    .dataframe tbody tr th {\n",
       "        vertical-align: top;\n",
       "    }\n",
       "\n",
       "    .dataframe thead th {\n",
       "        text-align: right;\n",
       "    }\n",
       "</style>\n",
       "<table border=\"1\" class=\"dataframe\">\n",
       "  <thead>\n",
       "    <tr style=\"text-align: right;\">\n",
       "      <th></th>\n",
       "      <th>date</th>\n",
       "      <th>date_block_num</th>\n",
       "      <th>shop_id</th>\n",
       "      <th>item_id</th>\n",
       "      <th>item_price</th>\n",
       "      <th>item_cnt_day</th>\n",
       "      <th>income</th>\n",
       "      <th>item_name</th>\n",
       "      <th>item_category_id</th>\n",
       "    </tr>\n",
       "  </thead>\n",
       "  <tbody>\n",
       "    <tr>\n",
       "      <th>0</th>\n",
       "      <td>2014-08-01</td>\n",
       "      <td>12</td>\n",
       "      <td>54</td>\n",
       "      <td>10298</td>\n",
       "      <td>399.0</td>\n",
       "      <td>2.0</td>\n",
       "      <td>798.0</td>\n",
       "      <td>ГАДКИЙ Я 2</td>\n",
       "      <td>40</td>\n",
       "    </tr>\n",
       "    <tr>\n",
       "      <th>1</th>\n",
       "      <td>2014-07-01</td>\n",
       "      <td>12</td>\n",
       "      <td>54</td>\n",
       "      <td>10298</td>\n",
       "      <td>399.0</td>\n",
       "      <td>3.0</td>\n",
       "      <td>1197.0</td>\n",
       "      <td>ГАДКИЙ Я 2</td>\n",
       "      <td>40</td>\n",
       "    </tr>\n",
       "    <tr>\n",
       "      <th>2</th>\n",
       "      <td>2014-07-01</td>\n",
       "      <td>12</td>\n",
       "      <td>51</td>\n",
       "      <td>10298</td>\n",
       "      <td>265.0</td>\n",
       "      <td>1.0</td>\n",
       "      <td>265.0</td>\n",
       "      <td>ГАДКИЙ Я 2</td>\n",
       "      <td>40</td>\n",
       "    </tr>\n",
       "    <tr>\n",
       "      <th>3</th>\n",
       "      <td>2014-08-01</td>\n",
       "      <td>12</td>\n",
       "      <td>58</td>\n",
       "      <td>10298</td>\n",
       "      <td>399.0</td>\n",
       "      <td>1.0</td>\n",
       "      <td>399.0</td>\n",
       "      <td>ГАДКИЙ Я 2</td>\n",
       "      <td>40</td>\n",
       "    </tr>\n",
       "    <tr>\n",
       "      <th>4</th>\n",
       "      <td>2014-07-01</td>\n",
       "      <td>12</td>\n",
       "      <td>56</td>\n",
       "      <td>10298</td>\n",
       "      <td>399.0</td>\n",
       "      <td>1.0</td>\n",
       "      <td>399.0</td>\n",
       "      <td>ГАДКИЙ Я 2</td>\n",
       "      <td>40</td>\n",
       "    </tr>\n",
       "  </tbody>\n",
       "</table>\n",
       "</div>"
      ],
      "text/plain": [
       "        date  date_block_num  shop_id  item_id  item_price  item_cnt_day  \\\n",
       "0 2014-08-01              12       54    10298       399.0           2.0   \n",
       "1 2014-07-01              12       54    10298       399.0           3.0   \n",
       "2 2014-07-01              12       51    10298       265.0           1.0   \n",
       "3 2014-08-01              12       58    10298       399.0           1.0   \n",
       "4 2014-07-01              12       56    10298       399.0           1.0   \n",
       "\n",
       "   income   item_name  item_category_id  \n",
       "0   798.0  ГАДКИЙ Я 2                40  \n",
       "1  1197.0  ГАДКИЙ Я 2                40  \n",
       "2   265.0  ГАДКИЙ Я 2                40  \n",
       "3   399.0  ГАДКИЙ Я 2                40  \n",
       "4   399.0  ГАДКИЙ Я 2                40  "
      ]
     },
     "execution_count": 14,
     "metadata": {},
     "output_type": "execute_result"
    }
   ],
   "source": [
    "sum14 = (transactions.date.dt.month.isin([6, 7, 8]))&(transactions.date.dt.year==2014)\n",
    "tr_sum14 = transactions[sum14].copy()\n",
    "tr_sum14['income'] = tr_sum14['item_price'] * tr_sum14['item_cnt_day']\n",
    "tr_sum14 = tr_sum14.merge(items)\n",
    "tr_sum14.head()"
   ]
  },
  {
   "cell_type": "code",
   "execution_count": 15,
   "metadata": {},
   "outputs": [
    {
     "data": {
      "text/html": [
       "<div>\n",
       "<style scoped>\n",
       "    .dataframe tbody tr th:only-of-type {\n",
       "        vertical-align: middle;\n",
       "    }\n",
       "\n",
       "    .dataframe tbody tr th {\n",
       "        vertical-align: top;\n",
       "    }\n",
       "\n",
       "    .dataframe thead th {\n",
       "        text-align: right;\n",
       "    }\n",
       "</style>\n",
       "<table border=\"1\" class=\"dataframe\">\n",
       "  <thead>\n",
       "    <tr style=\"text-align: right;\">\n",
       "      <th></th>\n",
       "      <th>item_category_id</th>\n",
       "      <th>income</th>\n",
       "      <th>item_category_name</th>\n",
       "    </tr>\n",
       "  </thead>\n",
       "  <tbody>\n",
       "    <tr>\n",
       "      <th>9</th>\n",
       "      <td>12</td>\n",
       "      <td>38620818.10</td>\n",
       "      <td>Игровые консоли - PS4</td>\n",
       "    </tr>\n",
       "    <tr>\n",
       "      <th>16</th>\n",
       "      <td>20</td>\n",
       "      <td>34222996.89</td>\n",
       "      <td>Игры - PS4</td>\n",
       "    </tr>\n",
       "    <tr>\n",
       "      <th>15</th>\n",
       "      <td>19</td>\n",
       "      <td>27729089.93</td>\n",
       "      <td>Игры - PS3</td>\n",
       "    </tr>\n",
       "    <tr>\n",
       "      <th>19</th>\n",
       "      <td>23</td>\n",
       "      <td>21321897.92</td>\n",
       "      <td>Игры - XBOX 360</td>\n",
       "    </tr>\n",
       "    <tr>\n",
       "      <th>24</th>\n",
       "      <td>30</td>\n",
       "      <td>17211400.35</td>\n",
       "      <td>Игры PC - Стандартные издания</td>\n",
       "    </tr>\n",
       "  </tbody>\n",
       "</table>\n",
       "</div>"
      ],
      "text/plain": [
       "    item_category_id       income             item_category_name\n",
       "9                 12  38620818.10          Игровые консоли - PS4\n",
       "16                20  34222996.89                     Игры - PS4\n",
       "15                19  27729089.93                     Игры - PS3\n",
       "19                23  21321897.92                Игры - XBOX 360\n",
       "24                30  17211400.35  Игры PC - Стандартные издания"
      ]
     },
     "execution_count": 15,
     "metadata": {},
     "output_type": "execute_result"
    }
   ],
   "source": [
    "gr_sum14 = tr_sum14.groupby('item_category_id')['income'].sum().to_frame().reset_index()\n",
    "gr_sum14 = gr_sum14.merge(item_categories).sort_values('income', ascending=False)\n",
    "gr_sum14.head()"
   ]
  },
  {
   "cell_type": "code",
   "execution_count": 16,
   "metadata": {},
   "outputs": [
    {
     "name": "stdout",
     "output_type": "stream",
     "text": [
      "Максимальный Revenue=38620818.1 для категории \"Игровые консоли - PS4\" с id=12\n"
     ]
    }
   ],
   "source": [
    "print(f'Максимальный Revenue={gr_sum14.iloc[0,1]} для категории \"{gr_sum14.iloc[0,2]}\" с id={gr_sum14.iloc[0,0]}')"
   ]
  },
  {
   "cell_type": "code",
   "execution_count": 17,
   "metadata": {},
   "outputs": [
    {
     "name": "stdout",
     "output_type": "stream",
     "text": [
      "Current answer for task category_id_with_max_revenue is: 12\n"
     ]
    }
   ],
   "source": [
    "category_id_with_max_revenue = gr_sum14.iloc[0,0] # PUT YOUR ANSWER IN THIS VARIABLE\n",
    "grader.submit_tag('category_id_with_max_revenue', category_id_with_max_revenue)"
   ]
  },
  {
   "cell_type": "markdown",
   "metadata": {},
   "source": [
    "<ol start=\"3\">\n",
    "  <li><b>How many items are there, such that their price stays constant (to the best of our knowledge) during the whole period of time?</b></li>\n",
    "</ol>\n",
    "\n",
    "* Let's assume, that the items are returned for the same price as they had been sold."
   ]
  },
  {
   "cell_type": "code",
   "execution_count": 18,
   "metadata": {},
   "outputs": [],
   "source": [
    "# YOUR CODE GOES HERE"
   ]
  },
  {
   "cell_type": "code",
   "execution_count": 19,
   "metadata": {},
   "outputs": [
    {
     "data": {
      "text/html": [
       "<div>\n",
       "<style scoped>\n",
       "    .dataframe tbody tr th:only-of-type {\n",
       "        vertical-align: middle;\n",
       "    }\n",
       "\n",
       "    .dataframe tbody tr th {\n",
       "        vertical-align: top;\n",
       "    }\n",
       "\n",
       "    .dataframe thead th {\n",
       "        text-align: right;\n",
       "    }\n",
       "</style>\n",
       "<table border=\"1\" class=\"dataframe\">\n",
       "  <thead>\n",
       "    <tr style=\"text-align: right;\">\n",
       "      <th></th>\n",
       "      <th>min</th>\n",
       "      <th>max</th>\n",
       "      <th>mean</th>\n",
       "    </tr>\n",
       "    <tr>\n",
       "      <th>item_id</th>\n",
       "      <th></th>\n",
       "      <th></th>\n",
       "      <th></th>\n",
       "    </tr>\n",
       "  </thead>\n",
       "  <tbody>\n",
       "    <tr>\n",
       "      <th>0</th>\n",
       "      <td>58.0</td>\n",
       "      <td>58.0</td>\n",
       "      <td>58.000000</td>\n",
       "    </tr>\n",
       "    <tr>\n",
       "      <th>1</th>\n",
       "      <td>4490.0</td>\n",
       "      <td>4490.0</td>\n",
       "      <td>4490.000000</td>\n",
       "    </tr>\n",
       "    <tr>\n",
       "      <th>2</th>\n",
       "      <td>58.0</td>\n",
       "      <td>58.0</td>\n",
       "      <td>58.000000</td>\n",
       "    </tr>\n",
       "    <tr>\n",
       "      <th>3</th>\n",
       "      <td>58.0</td>\n",
       "      <td>100.0</td>\n",
       "      <td>79.000000</td>\n",
       "    </tr>\n",
       "    <tr>\n",
       "      <th>4</th>\n",
       "      <td>58.0</td>\n",
       "      <td>58.0</td>\n",
       "      <td>58.000000</td>\n",
       "    </tr>\n",
       "    <tr>\n",
       "      <th>...</th>\n",
       "      <td>...</td>\n",
       "      <td>...</td>\n",
       "      <td>...</td>\n",
       "    </tr>\n",
       "    <tr>\n",
       "      <th>22165</th>\n",
       "      <td>59.0</td>\n",
       "      <td>59.0</td>\n",
       "      <td>59.000000</td>\n",
       "    </tr>\n",
       "    <tr>\n",
       "      <th>22166</th>\n",
       "      <td>150.0</td>\n",
       "      <td>150.0</td>\n",
       "      <td>150.000000</td>\n",
       "    </tr>\n",
       "    <tr>\n",
       "      <th>22167</th>\n",
       "      <td>155.0</td>\n",
       "      <td>299.0</td>\n",
       "      <td>297.686490</td>\n",
       "    </tr>\n",
       "    <tr>\n",
       "      <th>22168</th>\n",
       "      <td>798.5</td>\n",
       "      <td>799.0</td>\n",
       "      <td>798.916667</td>\n",
       "    </tr>\n",
       "    <tr>\n",
       "      <th>22169</th>\n",
       "      <td>4349.0</td>\n",
       "      <td>4349.0</td>\n",
       "      <td>4349.000000</td>\n",
       "    </tr>\n",
       "  </tbody>\n",
       "</table>\n",
       "<p>21807 rows × 3 columns</p>\n",
       "</div>"
      ],
      "text/plain": [
       "            min     max         mean\n",
       "item_id                             \n",
       "0          58.0    58.0    58.000000\n",
       "1        4490.0  4490.0  4490.000000\n",
       "2          58.0    58.0    58.000000\n",
       "3          58.0   100.0    79.000000\n",
       "4          58.0    58.0    58.000000\n",
       "...         ...     ...          ...\n",
       "22165      59.0    59.0    59.000000\n",
       "22166     150.0   150.0   150.000000\n",
       "22167     155.0   299.0   297.686490\n",
       "22168     798.5   799.0   798.916667\n",
       "22169    4349.0  4349.0  4349.000000\n",
       "\n",
       "[21807 rows x 3 columns]"
      ]
     },
     "execution_count": 19,
     "metadata": {},
     "output_type": "execute_result"
    }
   ],
   "source": [
    "tr_gr_item = transactions.groupby('item_id')['item_price'].agg(min=np.min, max=np.max, mean=np.mean)\n",
    "tr_gr_item"
   ]
  },
  {
   "cell_type": "code",
   "execution_count": 20,
   "metadata": {},
   "outputs": [
    {
     "data": {
      "text/plain": [
       "5926"
      ]
     },
     "execution_count": 20,
     "metadata": {},
     "output_type": "execute_result"
    }
   ],
   "source": [
    "# количестов элементов где минимальная и максимальная цены равны\n",
    "tr_gr_item[tr_gr_item['min']==tr_gr_item['max']].count()[0]"
   ]
  },
  {
   "cell_type": "code",
   "execution_count": 21,
   "metadata": {},
   "outputs": [
    {
     "data": {
      "text/html": [
       "<div>\n",
       "<style scoped>\n",
       "    .dataframe tbody tr th:only-of-type {\n",
       "        vertical-align: middle;\n",
       "    }\n",
       "\n",
       "    .dataframe tbody tr th {\n",
       "        vertical-align: top;\n",
       "    }\n",
       "\n",
       "    .dataframe thead th {\n",
       "        text-align: right;\n",
       "    }\n",
       "</style>\n",
       "<table border=\"1\" class=\"dataframe\">\n",
       "  <thead>\n",
       "    <tr style=\"text-align: right;\">\n",
       "      <th></th>\n",
       "      <th>item_price</th>\n",
       "    </tr>\n",
       "    <tr>\n",
       "      <th>item_id</th>\n",
       "      <th></th>\n",
       "    </tr>\n",
       "  </thead>\n",
       "  <tbody>\n",
       "    <tr>\n",
       "      <th>0</th>\n",
       "      <td>True</td>\n",
       "    </tr>\n",
       "    <tr>\n",
       "      <th>1</th>\n",
       "      <td>True</td>\n",
       "    </tr>\n",
       "    <tr>\n",
       "      <th>2</th>\n",
       "      <td>True</td>\n",
       "    </tr>\n",
       "    <tr>\n",
       "      <th>3</th>\n",
       "      <td>False</td>\n",
       "    </tr>\n",
       "    <tr>\n",
       "      <th>4</th>\n",
       "      <td>True</td>\n",
       "    </tr>\n",
       "    <tr>\n",
       "      <th>...</th>\n",
       "      <td>...</td>\n",
       "    </tr>\n",
       "    <tr>\n",
       "      <th>22165</th>\n",
       "      <td>True</td>\n",
       "    </tr>\n",
       "    <tr>\n",
       "      <th>22166</th>\n",
       "      <td>True</td>\n",
       "    </tr>\n",
       "    <tr>\n",
       "      <th>22167</th>\n",
       "      <td>False</td>\n",
       "    </tr>\n",
       "    <tr>\n",
       "      <th>22168</th>\n",
       "      <td>False</td>\n",
       "    </tr>\n",
       "    <tr>\n",
       "      <th>22169</th>\n",
       "      <td>True</td>\n",
       "    </tr>\n",
       "  </tbody>\n",
       "</table>\n",
       "<p>21807 rows × 1 columns</p>\n",
       "</div>"
      ],
      "text/plain": [
       "         item_price\n",
       "item_id            \n",
       "0              True\n",
       "1              True\n",
       "2              True\n",
       "3             False\n",
       "4              True\n",
       "...             ...\n",
       "22165          True\n",
       "22166          True\n",
       "22167         False\n",
       "22168         False\n",
       "22169          True\n",
       "\n",
       "[21807 rows x 1 columns]"
      ]
     },
     "execution_count": 21,
     "metadata": {},
     "output_type": "execute_result"
    }
   ],
   "source": [
    "tr_group = transactions.groupby('item_id')['item_price']\n",
    "tr_group_condition = tr_group.agg(np.argmin) == tr_group.agg(np.argmax)\n",
    "tr_group_condition_frame = tr_group_condition.to_frame()\n",
    "tr_group_condition_frame"
   ]
  },
  {
   "cell_type": "code",
   "execution_count": 22,
   "metadata": {},
   "outputs": [
    {
     "data": {
      "text/plain": [
       "item_price    5926\n",
       "dtype: int64"
      ]
     },
     "execution_count": 22,
     "metadata": {},
     "output_type": "execute_result"
    }
   ],
   "source": [
    "q3_result = tr_group_condition_frame[tr_group_condition_frame['item_price']==True].count()\n",
    "q3_result"
   ]
  },
  {
   "cell_type": "code",
   "execution_count": 23,
   "metadata": {},
   "outputs": [
    {
     "name": "stdout",
     "output_type": "stream",
     "text": [
      "Current answer for task num_items_constant_price is: item_price    5926\n",
      "dtype: int64\n"
     ]
    }
   ],
   "source": [
    "num_items_constant_price = q3_result # PUT YOUR ANSWER IN THIS VARIABLE\n",
    "grader.submit_tag('num_items_constant_price', num_items_constant_price)"
   ]
  },
  {
   "cell_type": "markdown",
   "metadata": {},
   "source": [
    "Remember, the data can sometimes be noisy."
   ]
  },
  {
   "cell_type": "markdown",
   "metadata": {},
   "source": [
    "<ol start=\"4\">\n",
    "  <li><b>What was the variance of the number of sold items per day sequence for the shop with `shop_id = 25` in December, 2014? Do not count the items, that were sold but returned back later.</b></li>\n",
    "</ol>\n",
    "\n",
    "* Fill `total_num_items_sold` and `days` arrays, and plot the sequence with the code below.\n",
    "* Then compute variance. Remember, there can be differences in how you normalize variance (biased or unbiased estimate, see [link](https://math.stackexchange.com/questions/496627/the-difference-between-unbiased-biased-estimator-variance)). Compute ***unbiased*** estimate (use the right value for `ddof` argument in `pd.var` or `np.var`). \n",
    "* If there were no sales at a given day, ***do not*** impute missing value with zero, just ignore that day"
   ]
  },
  {
   "cell_type": "code",
   "execution_count": 24,
   "metadata": {},
   "outputs": [],
   "source": [
    "shop_id = 25"
   ]
  },
  {
   "cell_type": "code",
   "execution_count": 25,
   "metadata": {},
   "outputs": [
    {
     "data": {
      "text/plain": [
       "Index(['date', 'date_block_num', 'shop_id', 'item_id', 'item_price',\n",
       "       'item_cnt_day'],\n",
       "      dtype='object')"
      ]
     },
     "execution_count": 25,
     "metadata": {},
     "output_type": "execute_result"
    }
   ],
   "source": [
    "s25dec14 = (transactions.date.dt.month==12)&(transactions.date.dt.year==2014)&(transactions.shop_id==25)\n",
    "tr_s52dec14 = transactions[s25dec14].copy()\n",
    "tr_s52dec14.columns"
   ]
  },
  {
   "cell_type": "code",
   "execution_count": 26,
   "metadata": {},
   "outputs": [
    {
     "name": "stdout",
     "output_type": "stream",
     "text": [
      "        date  item_cnt_day\n",
      "0 2014-12-01           179\n",
      "1 2014-12-02           168\n",
      "2 2014-12-03           178\n",
      "3 2014-12-04           245\n",
      "4 2014-12-05            83\n",
      "Shape: (31, 2)\n"
     ]
    },
    {
     "data": {
      "text/html": [
       "<div>\n",
       "<style scoped>\n",
       "    .dataframe tbody tr th:only-of-type {\n",
       "        vertical-align: middle;\n",
       "    }\n",
       "\n",
       "    .dataframe tbody tr th {\n",
       "        vertical-align: top;\n",
       "    }\n",
       "\n",
       "    .dataframe thead th {\n",
       "        text-align: right;\n",
       "    }\n",
       "</style>\n",
       "<table border=\"1\" class=\"dataframe\">\n",
       "  <thead>\n",
       "    <tr style=\"text-align: right;\">\n",
       "      <th></th>\n",
       "      <th>item_cnt_day</th>\n",
       "    </tr>\n",
       "  </thead>\n",
       "  <tbody>\n",
       "    <tr>\n",
       "      <th>count</th>\n",
       "      <td>31.000000</td>\n",
       "    </tr>\n",
       "    <tr>\n",
       "      <th>mean</th>\n",
       "      <td>277.677419</td>\n",
       "    </tr>\n",
       "    <tr>\n",
       "      <th>std</th>\n",
       "      <td>185.169722</td>\n",
       "    </tr>\n",
       "    <tr>\n",
       "      <th>min</th>\n",
       "      <td>0.000000</td>\n",
       "    </tr>\n",
       "    <tr>\n",
       "      <th>25%</th>\n",
       "      <td>178.500000</td>\n",
       "    </tr>\n",
       "    <tr>\n",
       "      <th>50%</th>\n",
       "      <td>234.000000</td>\n",
       "    </tr>\n",
       "    <tr>\n",
       "      <th>75%</th>\n",
       "      <td>324.500000</td>\n",
       "    </tr>\n",
       "    <tr>\n",
       "      <th>max</th>\n",
       "      <td>1022.000000</td>\n",
       "    </tr>\n",
       "  </tbody>\n",
       "</table>\n",
       "</div>"
      ],
      "text/plain": [
       "       item_cnt_day\n",
       "count     31.000000\n",
       "mean     277.677419\n",
       "std      185.169722\n",
       "min        0.000000\n",
       "25%      178.500000\n",
       "50%      234.000000\n",
       "75%      324.500000\n",
       "max     1022.000000"
      ]
     },
     "execution_count": 26,
     "metadata": {},
     "output_type": "execute_result"
    }
   ],
   "source": [
    "q4_df = tr_s52dec14.groupby(pd.Grouper(key='date', freq='D'))['item_cnt_day'].count().to_frame().reset_index()\n",
    "print(q4_df.head())\n",
    "print('Shape:', q4_df.shape)\n",
    "q4_df.describe()"
   ]
  },
  {
   "cell_type": "code",
   "execution_count": 27,
   "metadata": {},
   "outputs": [
    {
     "data": {
      "text/plain": [
       "8608"
      ]
     },
     "execution_count": 27,
     "metadata": {},
     "output_type": "execute_result"
    }
   ],
   "source": [
    "q4_df['item_cnt_day'].sum()"
   ]
  },
  {
   "cell_type": "code",
   "execution_count": 28,
   "metadata": {},
   "outputs": [
    {
     "data": {
      "text/plain": [
       "(array([ 179,  168,  178,  245,   83,  186,  194,  132,  149,  182,  126,\n",
       "         231,  315,  246,  181,  151,  229,  234,  315,  399,  294,  239,\n",
       "         293,  334,  376,  422,  542,  446,    0, 1022,  517]),\n",
       " array(['2014-12-01T00:00:00.000000000', '2014-12-02T00:00:00.000000000',\n",
       "        '2014-12-03T00:00:00.000000000', '2014-12-04T00:00:00.000000000',\n",
       "        '2014-12-05T00:00:00.000000000', '2014-12-06T00:00:00.000000000',\n",
       "        '2014-12-07T00:00:00.000000000', '2014-12-08T00:00:00.000000000',\n",
       "        '2014-12-09T00:00:00.000000000', '2014-12-10T00:00:00.000000000',\n",
       "        '2014-12-11T00:00:00.000000000', '2014-12-12T00:00:00.000000000',\n",
       "        '2014-12-13T00:00:00.000000000', '2014-12-14T00:00:00.000000000',\n",
       "        '2014-12-15T00:00:00.000000000', '2014-12-16T00:00:00.000000000',\n",
       "        '2014-12-17T00:00:00.000000000', '2014-12-18T00:00:00.000000000',\n",
       "        '2014-12-19T00:00:00.000000000', '2014-12-20T00:00:00.000000000',\n",
       "        '2014-12-21T00:00:00.000000000', '2014-12-22T00:00:00.000000000',\n",
       "        '2014-12-23T00:00:00.000000000', '2014-12-24T00:00:00.000000000',\n",
       "        '2014-12-25T00:00:00.000000000', '2014-12-26T00:00:00.000000000',\n",
       "        '2014-12-27T00:00:00.000000000', '2014-12-28T00:00:00.000000000',\n",
       "        '2014-12-29T00:00:00.000000000', '2014-12-30T00:00:00.000000000',\n",
       "        '2014-12-31T00:00:00.000000000'], dtype='datetime64[ns]'))"
      ]
     },
     "execution_count": 28,
     "metadata": {},
     "output_type": "execute_result"
    }
   ],
   "source": [
    "q4_df['item_cnt_day'].values, q4_df['date'].values"
   ]
  },
  {
   "cell_type": "code",
   "execution_count": null,
   "metadata": {},
   "outputs": [],
   "source": []
  },
  {
   "cell_type": "code",
   "execution_count": 29,
   "metadata": {},
   "outputs": [
    {
     "name": "stdout",
     "output_type": "stream",
     "text": [
      "Удаляю строк: 1\n"
     ]
    }
   ],
   "source": [
    "# Удаляю строки с нулевыми продажами\n",
    "print('Удаляю строк:', q4_df[q4_df['item_cnt_day']==0]['item_cnt_day'].count())\n",
    "q4_df.drop(index=q4_df[q4_df['item_cnt_day']==0].index, inplace=True)"
   ]
  },
  {
   "cell_type": "code",
   "execution_count": 30,
   "metadata": {},
   "outputs": [
    {
     "data": {
      "text/plain": [
       "0"
      ]
     },
     "execution_count": 30,
     "metadata": {},
     "output_type": "execute_result"
    }
   ],
   "source": [
    "q4_df[q4_df['item_cnt_day']==0]['item_cnt_day'].count()"
   ]
  },
  {
   "cell_type": "code",
   "execution_count": 31,
   "metadata": {},
   "outputs": [
    {
     "data": {
      "text/plain": [
       "32722.754022988498"
      ]
     },
     "execution_count": 31,
     "metadata": {},
     "output_type": "execute_result"
    }
   ],
   "source": [
    "q4_df['item_cnt_day'].var(ddof=1)"
   ]
  },
  {
   "cell_type": "code",
   "execution_count": 32,
   "metadata": {},
   "outputs": [
    {
     "data": {
      "image/png": "[encoded data removed]",
      "text/plain": [
       "<Figure size 432x288 with 1 Axes>"
      ]
     },
     "metadata": {
      "needs_background": "light"
     },
     "output_type": "display_data"
    },
    {
     "name": "stdout",
     "output_type": "stream",
     "text": [
      "Current answer for task total_num_items_sold_var is: 32722.754022988498\n"
     ]
    }
   ],
   "source": [
    "total_num_items_sold = q4_df['item_cnt_day'].values # YOUR CODE GOES HERE\n",
    "days = q4_df['date'].values # YOUR CODE GOES HERE\n",
    "\n",
    "# Plot it\n",
    "plt.plot(days, total_num_items_sold)\n",
    "plt.ylabel('Num items')\n",
    "plt.xlabel('Day')\n",
    "plt.title(\"Daily revenue for shop_id = 25\")\n",
    "plt.show()\n",
    "\n",
    "total_num_items_sold_var = q4_df['item_cnt_day'].var(ddof=1) # PUT YOUR ANSWER IN THIS VARIABLE\n",
    "grader.submit_tag('total_num_items_sold_var', total_num_items_sold_var)"
   ]
  },
  {
   "cell_type": "markdown",
   "metadata": {},
   "source": [
    "## Authorization & Submission\n",
    "To submit assignment to Cousera platform, please, enter your e-mail and token into the variables below. You can generate token on the programming assignment page. *Note:* Token expires 30 minutes after generation."
   ]
  },
  {
   "cell_type": "code",
   "execution_count": null,
   "metadata": {},
   "outputs": [],
   "source": [
    "STUDENT_EMAIL = # EMAIL HERE\n",
    "STUDENT_TOKEN = # TOKEN HERE\n",
    "grader.status()"
   ]
  },
  {
   "cell_type": "code",
   "execution_count": null,
   "metadata": {},
   "outputs": [],
   "source": [
    "grader.submit(STUDENT_EMAIL, STUDENT_TOKEN)"
   ]
  },
  {
   "cell_type": "markdown",
   "metadata": {},
   "source": [
    "Well done! :)"
   ]
  }
 ],
 "metadata": {
  "hw_version": "1.0.0",
  "kernelspec": {
   "display_name": "Python 3",
   "language": "python",
   "name": "python3"
  },
  "language_info": {
   "codemirror_mode": {
    "name": "ipython",
    "version": 3
   },
   "file_extension": ".py",
   "mimetype": "text/x-python",
   "name": "python",
   "nbconvert_exporter": "python",
   "pygments_lexer": "ipython3",
   "version": "3.7.7"
  }
 },
 "nbformat": 4,
 "nbformat_minor": 4
}
